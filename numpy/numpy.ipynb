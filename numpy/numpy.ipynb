{
 "cells": [
  {
   "cell_type": "markdown",
   "id": "e6d9d2a6-5793-49a7-a70a-5c6f0fbfc39b",
   "metadata": {
    "tags": []
   },
   "source": [
    "# Nympy"
   ]
  },
  {
   "cell_type": "code",
   "execution_count": 1,
   "id": "cd3a26a7-7e2e-437c-ae62-93e758d060db",
   "metadata": {},
   "outputs": [],
   "source": [
    "import numpy as np"
   ]
  },
  {
   "cell_type": "markdown",
   "id": "ee1ac312-8f6d-4b48-a230-e60fdd44f92b",
   "metadata": {
    "tags": []
   },
   "source": [
    "# Завдання\n",
    "## 1. Створюэмо двомірний нульовий масив розміром 11х11 та заповнити його діагоналі одиницями.\n",
    "\n",
    "1.1. Задати розмір масиву"
   ]
  },
  {
   "cell_type": "code",
   "execution_count": 2,
   "id": "27d25d17-2a8a-413a-a8e2-9e969e8e8510",
   "metadata": {},
   "outputs": [],
   "source": [
    "size = 11\n",
    "size_x = size\n",
    "size_y = size"
   ]
  },
  {
   "cell_type": "markdown",
   "id": "8ba442c0-4e0e-4dae-bb7e-c708bb698dac",
   "metadata": {},
   "source": [
    "1.2. Створити нульовий масив заданого розміру"
   ]
  },
  {
   "cell_type": "code",
   "execution_count": 3,
   "id": "6c3d3062-5f79-4d08-9f35-deddcf865fae",
   "metadata": {},
   "outputs": [],
   "source": [
    "masiv = np.zeros((size_x,size_y))"
   ]
  },
  {
   "cell_type": "markdown",
   "id": "419a3e11-f0da-4784-affc-02b1d3659ffe",
   "metadata": {},
   "source": [
    "1.3 Надрукувати створений масив"
   ]
  },
  {
   "cell_type": "code",
   "execution_count": 4,
   "id": "7ab62905-89a3-4b0f-a229-661d87a6d6f4",
   "metadata": {},
   "outputs": [
    {
     "name": "stdout",
     "output_type": "stream",
     "text": [
      "masiv =>\n",
      "[[0. 0. 0. 0. 0. 0. 0. 0. 0. 0. 0.]\n",
      " [0. 0. 0. 0. 0. 0. 0. 0. 0. 0. 0.]\n",
      " [0. 0. 0. 0. 0. 0. 0. 0. 0. 0. 0.]\n",
      " [0. 0. 0. 0. 0. 0. 0. 0. 0. 0. 0.]\n",
      " [0. 0. 0. 0. 0. 0. 0. 0. 0. 0. 0.]\n",
      " [0. 0. 0. 0. 0. 0. 0. 0. 0. 0. 0.]\n",
      " [0. 0. 0. 0. 0. 0. 0. 0. 0. 0. 0.]\n",
      " [0. 0. 0. 0. 0. 0. 0. 0. 0. 0. 0.]\n",
      " [0. 0. 0. 0. 0. 0. 0. 0. 0. 0. 0.]\n",
      " [0. 0. 0. 0. 0. 0. 0. 0. 0. 0. 0.]\n",
      " [0. 0. 0. 0. 0. 0. 0. 0. 0. 0. 0.]] \n"
     ]
    }
   ],
   "source": [
    "print(f'masiv =>\\n{masiv} ')"
   ]
  },
  {
   "cell_type": "markdown",
   "id": "c544bdf8-9737-4981-9e96-3525024971d5",
   "metadata": {},
   "source": [
    "1.4 Змінити діагоналі за допомогою двох циклів"
   ]
  },
  {
   "cell_type": "markdown",
   "id": "bb61e37a-42d2-4bf1-b042-a9a2f5f05a91",
   "metadata": {},
   "source": [
    "1.5 Вивести створений масив"
   ]
  },
  {
   "cell_type": "code",
   "execution_count": 5,
   "id": "c7f1111c-3f06-45c8-be56-e0f285be9698",
   "metadata": {},
   "outputs": [
    {
     "name": "stdout",
     "output_type": "stream",
     "text": [
      "masiv =>\n",
      "[[1. 0. 0. 0. 0. 0. 0. 0. 0. 0. 1.]\n",
      " [0. 1. 0. 0. 0. 0. 0. 0. 0. 1. 0.]\n",
      " [0. 0. 1. 0. 0. 0. 0. 0. 1. 0. 0.]\n",
      " [0. 0. 0. 1. 0. 0. 0. 1. 0. 0. 0.]\n",
      " [0. 0. 0. 0. 1. 0. 1. 0. 0. 0. 0.]\n",
      " [0. 0. 0. 0. 0. 1. 0. 0. 0. 0. 0.]\n",
      " [0. 0. 0. 0. 1. 0. 1. 0. 0. 0. 0.]\n",
      " [0. 0. 0. 1. 0. 0. 0. 1. 0. 0. 0.]\n",
      " [0. 0. 1. 0. 0. 0. 0. 0. 1. 0. 0.]\n",
      " [0. 1. 0. 0. 0. 0. 0. 0. 0. 1. 0.]\n",
      " [1. 0. 0. 0. 0. 0. 0. 0. 0. 0. 1.]]\n"
     ]
    }
   ],
   "source": [
    "masiv = np.zeros((size,size))\n",
    "for i in range(size_x):\n",
    "\tfor j in range(size_y):\n",
    "\t\tif ((size-1-i == j) or (i==j)):\n",
    "\t\t\tmasiv[i][j] = 1\n",
    "\t\telse:\n",
    "\t\t\tmasiv[i][j] = 0\n",
    "            \n",
    "print(f'masiv =>\\n{masiv}')"
   ]
  },
  {
   "cell_type": "markdown",
   "id": "5107c92c-5205-440b-a11e-3368edb7807a",
   "metadata": {},
   "source": [
    "### Горизонтальний градієнт"
   ]
  },
  {
   "cell_type": "markdown",
   "id": "d32d38cf-df9e-4ef2-8fa7-015cc2c22026",
   "metadata": {},
   "source": [
    "## 2. Засобами NumPy створити вертикальні та горизонтальні зображення градієнту в обидва боки (поступове збільшення яскравості на зображенні).\n"
   ]
  },
  {
   "cell_type": "code",
   "execution_count": 6,
   "id": "501f08fe-1172-44b5-b373-26dab55f1e24",
   "metadata": {},
   "outputs": [],
   "source": [
    "import cv2"
   ]
  },
  {
   "cell_type": "markdown",
   "id": "5f193044-d66e-4d64-9aa3-05bfa38d0fb6",
   "metadata": {},
   "source": [
    "2.1 Створити нульовий масив розміром 255х255"
   ]
  },
  {
   "cell_type": "code",
   "execution_count": 7,
   "id": "e6ce3340-a081-4f96-a43d-3d671a19f221",
   "metadata": {},
   "outputs": [],
   "source": [
    "size = 255\n",
    "horizontal_gradient_right = np.zeros((size,size))"
   ]
  },
  {
   "cell_type": "markdown",
   "id": "91c5d1fc-b93e-41a1-b135-1db836e8b1bd",
   "metadata": {},
   "source": [
    "2.2 Визначити розміри масиву"
   ]
  },
  {
   "cell_type": "code",
   "execution_count": 8,
   "id": "b5f08a34-2fe1-419a-9d81-2ea274125508",
   "metadata": {},
   "outputs": [],
   "source": [
    "width = horizontal_gradient_right.shape[1]\n",
    "height = horizontal_gradient_right.shape[0]"
   ]
  },
  {
   "cell_type": "markdown",
   "id": "e6cd2efd-a402-4ce3-8c69-4119436145a2",
   "metadata": {},
   "source": [
    "2.3 Поелементно змінити яскравості кожного пікселя"
   ]
  },
  {
   "cell_type": "markdown",
   "id": "68626b66-8a08-41ff-a7a9-5ff318571f5c",
   "metadata": {},
   "source": [
    "2.4 Записати зображення засабами OpenCV"
   ]
  },
  {
   "cell_type": "code",
   "execution_count": 9,
   "id": "7e6f83bc-9822-424a-91ad-dda55a88ba09",
   "metadata": {},
   "outputs": [
    {
     "name": "stdout",
     "output_type": "stream",
     "text": [
      "[[  0.   1.   2. ... 252. 253. 254.]\n",
      " [  0.   1.   2. ... 252. 253. 254.]\n",
      " [  0.   1.   2. ... 252. 253. 254.]\n",
      " ...\n",
      " [  0.   1.   2. ... 252. 253. 254.]\n",
      " [  0.   1.   2. ... 252. 253. 254.]\n",
      " [  0.   1.   2. ... 252. 253. 254.]]\n"
     ]
    }
   ],
   "source": [
    "horizontal_gradient_right = np.zeros((size,size))\n",
    "for i in range(height):\n",
    "    for j in range(width):\n",
    "        horizontal_gradient_right[i][j] = j\n",
    "        \n",
    "cv2.imwrite('labs\\lab1\\horizontal_gradient_right.jpg', horizontal_gradient_right)\n",
    "print(horizontal_gradient_right)\n"
   ]
  },
  {
   "cell_type": "markdown",
   "id": "ad525d5d-3791-4fdd-a796-9f4a9d55a990",
   "metadata": {},
   "source": [
    "2.5 Аналогічно створити горизонтальний градієнт в інший бік"
   ]
  },
  {
   "cell_type": "code",
   "execution_count": 10,
   "id": "4f491d04-9499-4feb-a627-76c5e06dea11",
   "metadata": {},
   "outputs": [
    {
     "name": "stdout",
     "output_type": "stream",
     "text": [
      "[[255. 254. 253. ...   3.   2.   1.]\n",
      " [255. 254. 253. ...   3.   2.   1.]\n",
      " [255. 254. 253. ...   3.   2.   1.]\n",
      " ...\n",
      " [255. 254. 253. ...   3.   2.   1.]\n",
      " [255. 254. 253. ...   3.   2.   1.]\n",
      " [255. 254. 253. ...   3.   2.   1.]]\n"
     ]
    }
   ],
   "source": [
    "horizontal_gradient_left = np.zeros((size,size))\n",
    "max_value = 255\n",
    "for i in range(height):\n",
    "    for j in range(width):\n",
    "        horizontal_gradient_left[i][j] = max_value - j\n",
    "        \n",
    "cv2.imwrite('labs\\lab1\\horizontal_gradient_left.jpg', horizontal_gradient_left)\n",
    "print(horizontal_gradient_left)\n"
   ]
  },
  {
   "cell_type": "markdown",
   "id": "591dc964-2f8d-4ce9-a74b-9e5b24e435cd",
   "metadata": {},
   "source": [
    "### Вертикальний градієнт"
   ]
  },
  {
   "cell_type": "code",
   "execution_count": 11,
   "id": "255d9a5c-4141-4637-b401-f809852dbe90",
   "metadata": {},
   "outputs": [
    {
     "name": "stdout",
     "output_type": "stream",
     "text": [
      "[[  0.   0.   0. ...   0.   0.   0.]\n",
      " [  1.   1.   1. ...   1.   1.   1.]\n",
      " [  2.   2.   2. ...   2.   2.   2.]\n",
      " ...\n",
      " [252. 252. 252. ... 252. 252. 252.]\n",
      " [253. 253. 253. ... 253. 253. 253.]\n",
      " [254. 254. 254. ... 254. 254. 254.]]\n"
     ]
    }
   ],
   "source": [
    "vertical_gradient_down = np.zeros((size,size))\n",
    "for i in range(height):\n",
    "    for j in range(width):\n",
    "        vertical_gradient_down[i][j] = i  \n",
    "        \n",
    "cv2.imwrite('labs\\lab1\\ vertical_gradient_down.jpg', vertical_gradient_down)\n",
    "print(vertical_gradient_down)\n"
   ]
  },
  {
   "cell_type": "markdown",
   "id": "1e08956d-0290-4c04-ade6-1dc5400239cf",
   "metadata": {},
   "source": [
    "2.10 Аналогічно створити горизонтальний градієнт в інший бік"
   ]
  },
  {
   "cell_type": "code",
   "execution_count": 12,
   "id": "921d278c-c40b-4b21-abee-7d1a218f452a",
   "metadata": {},
   "outputs": [
    {
     "name": "stdout",
     "output_type": "stream",
     "text": [
      "[[255. 255. 255. ... 255. 255. 255.]\n",
      " [254. 254. 254. ... 254. 254. 254.]\n",
      " [253. 253. 253. ... 253. 253. 253.]\n",
      " ...\n",
      " [  3.   3.   3. ...   3.   3.   3.]\n",
      " [  2.   2.   2. ...   2.   2.   2.]\n",
      " [  1.   1.   1. ...   1.   1.   1.]]\n"
     ]
    }
   ],
   "source": [
    "vertical_gradient_up = np.zeros((size,size))\n",
    "max_value = 255\n",
    "for i in range(height):\n",
    "    for j in range(width):\n",
    "        vertical_gradient_up[i][j] = max_value - i\n",
    "        \n",
    "cv2.imwrite('labs\\lab1\\ vertical_gradient_up.jpg', vertical_gradient_up)\n",
    "print(vertical_gradient_up)\n"
   ]
  }
 ],
 "metadata": {
  "kernelspec": {
   "display_name": "Python 3 (ipykernel)",
   "language": "python",
   "name": "python3"
  },
  "language_info": {
   "codemirror_mode": {
    "name": "ipython",
    "version": 3
   },
   "file_extension": ".py",
   "mimetype": "text/x-python",
   "name": "python",
   "nbconvert_exporter": "python",
   "pygments_lexer": "ipython3",
   "version": "3.7.0"
  }
 },
 "nbformat": 4,
 "nbformat_minor": 5
}
